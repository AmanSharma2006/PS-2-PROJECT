{
  "nbformat": 4,
  "nbformat_minor": 0,
  "metadata": {
    "colab": {
      "provenance": []
    },
    "kernelspec": {
      "name": "python3",
      "display_name": "Python 3"
    },
    "language_info": {
      "name": "python"
    }
  },
  "cells": [
    {
      "cell_type": "code",
      "execution_count": 1,
      "metadata": {
        "id": "ZBS98OcCEMuI"
      },
      "outputs": [],
      "source": [
        "import pandas as pd\n",
        "import matplotlib.pyplot as plt\n",
        "import seaborn as sns\n",
        "from sklearn.preprocessing import LabelEncoder\n",
        "from sklearn.model_selection import train_test_split\n",
        "from sklearn.ensemble import RandomForestClassifier\n",
        "from sklearn.metrics import classification_report, confusion_matrix, accuracy_score, precision_score, recall_score, f1_score"
      ]
    },
    {
      "cell_type": "code",
      "source": [
        "# Load dataset\n",
        "df = pd.read_csv(\"/content/trash data.csv\")"
      ],
      "metadata": {
        "id": "aaymqy-uEla3"
      },
      "execution_count": 4,
      "outputs": []
    },
    {
      "cell_type": "code",
      "source": [
        "# --- Data Cleaning ---\n",
        "\n",
        "df['FILL PERCENTAGE'] = (\n",
        "    df['FILL PERCENTAGE']\n",
        "    .str.replace('%', '', regex=False)\n",
        ")\n",
        "df['FILL PERCENTAGE'] = pd.to_numeric(df['FILL PERCENTAGE'], errors='coerce')\n"
      ],
      "metadata": {
        "id": "urPM-twXEqPk"
      },
      "execution_count": 3,
      "outputs": []
    },
    {
      "cell_type": "code",
      "source": [
        "# Clean and convert BATTERY LEVEL\n",
        "df['BATTERY LEVEL '] = (\n",
        "    df['BATTERY LEVEL ']\n",
        "    .str.replace('%', '', regex=False)\n",
        ")\n",
        "df['BATTERY LEVEL '] = pd.to_numeric(df['BATTERY LEVEL '], errors='coerce')\n",
        "\n",
        "df['TEMPERATURE( IN ⁰C)'] = (\n",
        "    df['TEMPERATURE( IN ⁰C)']\n",
        "    .astype(str)\n",
        "    .str.replace('ᵒ', '', regex=False)  # remove special unicode superscript o\n",
        "    .str.replace('°', '', regex=False)  # remove standard degree symbol just in case\n",
        ")\n",
        "df['TEMPERATURE( IN ⁰C)'] = pd.to_numeric(df['TEMPERATURE( IN ⁰C)'], errors='coerce')\n",
        "\n",
        "df['FILL LEVEL(IN LITRES)'] = pd.to_numeric(df['FILL LEVEL(IN LITRES)'], errors='coerce')\n",
        "\n",
        "df['LATITUDE'] = df['LATITUDE'].astype(str).str.replace('° N', '', regex=False)\n",
        "df['LATITUDE'] = pd.to_numeric(df['LATITUDE'], errors='coerce')\n",
        "\n",
        "df['LONGITUDE'] = df['LONGITUDE'].astype(str).str.replace('° E', '', regex=False)\n",
        "df['LONGITUDE'] = pd.to_numeric(df['LONGITUDE'], errors='coerce')\n",
        "\n",
        "df.dropna(subset=[\n",
        "    'FILL PERCENTAGE', 'BATTERY LEVEL ', 'TEMPERATURE( IN ⁰C)',\n",
        "    'FILL LEVEL(IN LITRES)', 'LATITUDE', 'LONGITUDE',\n",
        "    'FILL LEVEL INDICATOR(Above 550)'\n",
        "], inplace=True)"
      ],
      "metadata": {
        "id": "VER_U7N1EuGW"
      },
      "execution_count": 5,
      "outputs": []
    },
    {
      "cell_type": "code",
      "source": [
        "# Convert date and time to datetime\n",
        "df['DateTime'] = pd.to_datetime(df['Date'] + ' ' + df['TIME'])"
      ],
      "metadata": {
        "colab": {
          "base_uri": "https://localhost:8080/"
        },
        "id": "ozquAZnjFAwo",
        "outputId": "19f5b568-57f1-48c1-e002-d2e22cf1d6da"
      },
      "execution_count": 6,
      "outputs": [
        {
          "output_type": "stream",
          "name": "stderr",
          "text": [
            "<ipython-input-6-808237654da9>:2: UserWarning: Could not infer format, so each element will be parsed individually, falling back to `dateutil`. To ensure parsing is consistent and as-expected, please specify a format.\n",
            "  df['DateTime'] = pd.to_datetime(df['Date'] + ' ' + df['TIME'])\n"
          ]
        }
      ]
    },
    {
      "cell_type": "code",
      "source": [
        "# Extract datetime features\n",
        "df['Hour'] = df['DateTime'].dt.hour\n",
        "df['DayOfWeek'] = df['DateTime'].dt.dayofweek\n",
        "df['Month'] = df['DateTime'].dt.month"
      ],
      "metadata": {
        "id": "S0UhbZ3_FIUx"
      },
      "execution_count": 7,
      "outputs": []
    },
    {
      "cell_type": "code",
      "source": [
        "# Encode LOCATION\n",
        "df['LOCATION '] = pd.factorize(df['LOCATION '])[0]"
      ],
      "metadata": {
        "id": "YjTyixKNFKMf"
      },
      "execution_count": 8,
      "outputs": []
    },
    {
      "cell_type": "code",
      "source": [
        "# Encode target variable\n",
        "df['FILL LEVEL INDICATOR(Above 550)'] = df['FILL LEVEL INDICATOR(Above 550)'].map({'TRUE': 1, 'FALSE': 0})"
      ],
      "metadata": {
        "id": "StxpPhP1FOFY"
      },
      "execution_count": 9,
      "outputs": []
    },
    {
      "cell_type": "code",
      "source": [
        "# --- Feature Selection ---\n",
        "features = [\n",
        "    'WEEK NO', 'FILL LEVEL(IN LITRES)', 'TOTAL(LITRES)', 'FILL PERCENTAGE',\n",
        "    'LOCATION ', 'LATITUDE', 'LONGITUDE', 'TEMPERATURE( IN ⁰C)',\n",
        "    'BATTERY LEVEL ', 'Hour', 'DayOfWeek', 'Month'\n",
        "]\n",
        "X = df[features]\n",
        "y = df['FILL LEVEL INDICATOR(Above 550)']\n"
      ],
      "metadata": {
        "id": "STFtxeXaFW9z"
      },
      "execution_count": 10,
      "outputs": []
    },
    {
      "cell_type": "code",
      "source": [
        "# --- Train/Test Split ---\n",
        "X_train, X_test, y_train, y_test = train_test_split(X, y, test_size=0.2, random_state=42)\n",
        "\n",
        "# --- Model Training ---\n",
        "model = RandomForestClassifier(n_estimators=100, random_state=42)\n",
        "model.fit(X_train, y_train)\n",
        "\n",
        "# --- Prediction & Evaluation ---\n",
        "y_pred = model.predict(X_test)\n"
      ],
      "metadata": {
        "id": "Vcsws6a2FZIz"
      },
      "execution_count": 18,
      "outputs": []
    },
    {
      "cell_type": "code",
      "source": [
        "# --- Metrics ---\n",
        "accuracy = accuracy_score(y_test, y_pred)\n",
        "precision = precision_score(y_test, y_pred)\n",
        "recall = recall_score(y_test, y_pred)\n",
        "f1 = f1_score(y_test, y_pred)\n",
        "conf_matrix = confusion_matrix(y_test, y_pred)"
      ],
      "metadata": {
        "id": "f-n2Can6Hsjo"
      },
      "execution_count": 19,
      "outputs": []
    },
    {
      "cell_type": "code",
      "source": [
        "# --- Display Results ---\n",
        "\n",
        "plt.figure(figsize=(6, 4))\n",
        "sns.heatmap(conf_matrix, annot=True, fmt='d', cmap='Blues', xticklabels=['Not Full', 'Full'], yticklabels=['Not Full', 'Full'])\n",
        "plt.title('Confusion Matrix')\n",
        "plt.xlabel('Predicted')\n",
        "plt.ylabel('Actual')\n",
        "plt.show()\n",
        "\n",
        "print(\"=== Trash Bin Level Classification ===\")\n",
        "print(\"\\nConfusion Matrix:\\n\", conf_matrix)\n",
        "print(\"\\nPrecision: {:.2f}\".format(precision))\n",
        "print(\"Recall: {:.2f}\".format(recall))\n",
        "print(\"Accuracy: {:.2f}\".format(accuracy))\n",
        "print(\"F1-Score: {:.2f}\".format(f1))\n",
        "print(\"\\nDetailed Classification Report:\\n\", classification_report(y_test, y_pred))"
      ],
      "metadata": {
        "colab": {
          "base_uri": "https://localhost:8080/",
          "height": 774
        },
        "id": "q1EXm38tHydX",
        "outputId": "714fe311-16a8-4289-8b86-5365404ccfd8"
      },
      "execution_count": 20,
      "outputs": [
        {
          "output_type": "display_data",
          "data": {
            "text/plain": [
              "<Figure size 600x400 with 2 Axes>"
            ],
            "image/png": "[encoded data removed]"
          },
          "metadata": {}
        },
        {
          "output_type": "stream",
          "name": "stdout",
          "text": [
            "=== Trash Bin Level Classification ===\n",
            "\n",
            "Confusion Matrix:\n",
            " [[1623    0]\n",
            " [   0  140]]\n",
            "\n",
            "Precision: 1.00\n",
            "Recall: 1.00\n",
            "Accuracy: 1.00\n",
            "F1-Score: 1.00\n",
            "\n",
            "Detailed Classification Report:\n",
            "               precision    recall  f1-score   support\n",
            "\n",
            "           0       1.00      1.00      1.00      1623\n",
            "           1       1.00      1.00      1.00       140\n",
            "\n",
            "    accuracy                           1.00      1763\n",
            "   macro avg       1.00      1.00      1.00      1763\n",
            "weighted avg       1.00      1.00      1.00      1763\n",
            "\n"
          ]
        }
      ]
    }
  ]
}